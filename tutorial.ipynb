{
 "cells": [
  {
   "cell_type": "markdown",
   "metadata": {},
   "source": [
    "# Tabela de Dispersão (Tabela Hash) com Encadeamento Simples\n",
    "\n",
    "### O que é Tabela Hash?\n",
    "Tabela Hash é a uma forma de busca eficiente que visa diminuir bastante o tempo de busca em relação aos outros meios de busca de valores em um determinado arranjo de valores(Arrays).\n",
    "\n",
    "Dois conceitos importantes a serem aprendidos aqui são os conceitos de **\"Chave e Valor\"** e **\"Função de Espalhamento\"**.\n",
    "\n",
    "#### Chave e Valor\n",
    "\n",
    "Considere a seguinte lista de valores abaixo:"
   ]
  },
  {
   "cell_type": "code",
   "execution_count": null,
   "metadata": {},
   "outputs": [],
   "source": [
    "nomes = [\"João\", \"Guilherme\", \"Huilde\", \"Leandro\"]"
   ]
  }
 ],
 "metadata": {
  "language_info": {
   "name": "python"
  },
  "orig_nbformat": 4
 },
 "nbformat": 4,
 "nbformat_minor": 2
}
