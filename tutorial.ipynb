{
 "cells": [
  {
   "cell_type": "markdown",
   "metadata": {},
   "source": [
    "# Tabela de Dispersão (Tabela Hash) com Encadeamento Simples\n",
    "\n",
    "### O que é Tabela Hash?\n",
    "Tabela Hash é a uma forma de busca eficiente que visa diminuir bastante o tempo de busca em relação aos outros meios de busca de valores em um determinado arranjo de valores (arrays).\n",
    "\n",
    "Dois conceitos importantes a serem aprendidos aqui são os conceitos de **\"Chave e Valor\"** e **\"Função de Espalhamento\"**.\n",
    "\n",
    "#### Chave e Valor\n",
    "\n",
    "Imagine que você quer descobrir o significado de uma palavra em um dicionário. O que acontecerá nos momentos seguintes será você abrindo o dicionário e buscando pela palavra que você quer utilizando mecanismos de busca como a ordenação de páginas e das letras do alfabeto. No final da sua tarefa, encontrará a palavra em seguida do seu significado.\n",
    "\n",
    "Pois bem, tentaremos, dessa forma, transformar esse exercício mental em algo computacional. Assim, a palavra que você buscava no dicionário será encarado como chave (ou 'key') e o seu significado ficará conhecido como valor (ou value).\n",
    "\n",
    "Para um exemplo inicial, faremos um recorte em uma página fictícia de um dicionário comum."
   ]
  },
  {
   "cell_type": "code",
   "execution_count": null,
   "metadata": {},
   "outputs": [],
   "source": [
    "{\n",
    "    'caribe': 'indígena pertencente a qualquer dos grupos caribes',\n",
    "    'começo': 'ato ou efeito de começar',\n",
    "    'correto': 'isento de falha, erro ou defeito',\n",
    "}"
   ]
  },
  {
   "cell_type": "markdown",
   "metadata": {},
   "source": [
    "Ao observar esse recorte de um dicionário, podemos perceber uma atribuição de cada valor (significado) a cada chave (palavra). Essa abordagem não é muito diferente do que veremos uma Hash Table. Observe a lista de chaves a seguir."
   ]
  },
  {
   "cell_type": "code",
   "execution_count": 4,
   "metadata": {},
   "outputs": [],
   "source": [
    "nomes = [\"João\", \"Guilherme\", \"Huilde\", \"Marcos\"]"
   ]
  },
  {
   "cell_type": "markdown",
   "metadata": {},
   "source": [
    "Caso quiséssemos popular em um outro dicionário fictício essa mesma lista, juntamente com seus significados, poderíamos criar um laço que fizesse a leitura de todas as chaves e criasse uma nova posição para um conjunto de chave e valor em um array. Entretanto, poderia ser um problema se, diferente de um dicionário do mundo real, nós fossemos adicionar um nome que já exista nesse array: haveria duas chaves iguais.\n",
    "\n",
    "Além disso, também teríamos mais problemas, primeiro não sabemos o que exatamente teria dentro das chaves desses conjuntos, caso nós permitíssemos nomes iguais. Segundo, não conseguiríamos fazer uma busca pelo valor de um index (identificador), gerando ainda mais problemas e limitações."
   ]
  },
  {
   "cell_type": "markdown",
   "metadata": {},
   "source": [
    "### Função de Espalhamento\n",
    "\n",
    "Tendo em vista tudo isso, a abordagem de Hash Table, portanto, nos obriga a criar uma função injetora que crie chaves (indexes) que obedeçam determinadas regras de criação. Em outras palavras, precisamos de algum nível de criptografia que traduza o nosso nome em uma combinação de caracteres única, permitindo dessa forma uma infinidade de nomes.\n",
    "\n",
    "Em um exemplo rápido e inofensivo, imaginemos que a criptografia da nossa função injetora é que o valor das chaves é a quantidade de caracteres de cada nome, que por definição, é a nossa **Função de Espalhamento**. Nesse caso e considerando a lista **nomes**, teríamos o array a seguir."
   ]
  },
  {
   "cell_type": "code",
   "execution_count": 7,
   "metadata": {},
   "outputs": [],
   "source": [
    "nomes = {\n",
    "    '4': {\n",
    "        'nome': 'João',\n",
    "    },\n",
    "    '6': {\n",
    "        'nome': 'Huilde',\n",
    "    },\n",
    "    '6': {\n",
    "        'nome': 'Marcos',\n",
    "    },\n",
    "    '9': {\n",
    "        'nome': 'Guilherme',\n",
    "    }\n",
    "}"
   ]
  },
  {
   "cell_type": "markdown",
   "metadata": {},
   "source": [
    "Percebam que nesse exemplo tivemos um problema: duas chaves iguais. E isso nós chamamos de **Colisão**."
   ]
  },
  {
   "cell_type": "markdown",
   "metadata": {},
   "source": [
    "### Colisão\n",
    "\n",
    "Resumindo, uma colisão é quando dois ou mais valores são postos em um mesmo lugar na Tabela Hash, como aconteceu no exemplo anterior."
   ]
  },
  {
   "cell_type": "code",
   "execution_count": 8,
   "metadata": {},
   "outputs": [
    {
     "name": "stdout",
     "output_type": "stream",
     "text": [
      "{'4': {'nome': 'João'}, '6': {'nome': 'Marcos'}, '9': {'nome': 'Guilherme'}}\n"
     ]
    }
   ],
   "source": [
    "print(nomes)"
   ]
  },
  {
   "cell_type": "markdown",
   "metadata": {},
   "source": [
    "Ao ver o que há na tabela de nomes, perceba que \"Huilde\" foi apagado, justamente por ter a mesma chave(número de letras) que \"Marcos\"."
   ]
  },
  {
   "cell_type": "markdown",
   "metadata": {},
   "source": [
    "Toda Função de Espalhamento está sujeita a colisões, porém, há certos jeitos de lidar com elas."
   ]
  }
 ],
 "metadata": {
  "interpreter": {
   "hash": "e7370f93d1d0cde622a1f8e1c04877d8463912d04d973331ad4851f04de6915a"
  },
  "kernelspec": {
   "display_name": "Python 3.10.1 64-bit",
   "language": "python",
   "name": "python3"
  },
  "language_info": {
   "codemirror_mode": {
    "name": "ipython",
    "version": 3
   },
   "file_extension": ".py",
   "mimetype": "text/x-python",
   "name": "python",
   "nbconvert_exporter": "python",
   "pygments_lexer": "ipython3",
   "version": "3.10.1"
  },
  "orig_nbformat": 4
 },
 "nbformat": 4,
 "nbformat_minor": 2
}
